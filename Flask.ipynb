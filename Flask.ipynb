{
 "cells": [
  {
   "cell_type": "code",
   "execution_count": 3,
   "metadata": {},
   "outputs": [
    {
     "name": "stderr",
     "output_type": "stream",
     "text": [
      " * Restarting with stat\n"
     ]
    },
    {
     "ename": "SystemExit",
     "evalue": "1",
     "output_type": "error",
     "traceback": [
      "An exception has occurred, use %tb to see the full traceback.\n",
      "\u001b[1;31mSystemExit\u001b[0m\u001b[1;31m:\u001b[0m 1\n"
     ]
    },
    {
     "name": "stderr",
     "output_type": "stream",
     "text": [
      "C:\\Users\\Linda\\Anaconda3\\envs\\PythonData\\lib\\site-packages\\IPython\\core\\interactiveshell.py:2870: UserWarning: To exit: use 'exit', 'quit', or Ctrl-D.\n",
      "  warn(\"To exit: use 'exit', 'quit', or Ctrl-D.\", stacklevel=1)\n"
     ]
    }
   ],
   "source": [
    "import sqlalchemy\n",
    "from sqlalchemy.ext.automap import automap_base\n",
    "from sqlalchemy.orm import Session\n",
    "from sqlalchemy import create_engine\n",
    "\n",
    "import numpy as np\n",
    "import pandas as pd\n",
    "import matplotlib.pyplot as plt\n",
    "from flask import Flask, jsonify\n",
    "\n",
    "#Create an app, being sure to pass __name__\n",
    "app = Flask(__name__)\n",
    "\n",
    "#Define precipitation route\n",
    "@app.route(\"/api/v1.0/precipitation\")\n",
    "def prcp():\n",
    "    engine = create_engine(\"sqlite:///hawaii.db\")\n",
    "    prcp_query = pd.read_sql_query(\"SELECT date,prcp FROM measurement_sql WHERE date between '2017-01-01' AND '2018-01-01';\", engine)\n",
    "    return jsonify(prcp_query)\n",
    "\n",
    "#Define station route\n",
    "@app.route(\"/api/v1.0/stations\")\n",
    "def stations():\n",
    "    engine = create_engine(\"sqlite:///hawaii.db\")\n",
    "    active_query = pd.read_sql_query(\"SELECT station,SUM(tobs) FROM measurement_sql GROUP BY station ORDER BY tobs DESC\", engine)\n",
    "    return jsonify(active_query[\"station\"])\n",
    "\n",
    "#Define tobs route\n",
    "@app.route(\"/api/v1.0/tobs\")\n",
    "def tobs():\n",
    "    engine = create_engine(\"sqlite:///hawaii.db\")\n",
    "    temp_queryAll = pd.read_sql_query(\"SELECT date,tobs FROM measurement_sql WHERE date between '2017-01-01' AND '2018-01-01'\", engine)\n",
    "    return jsonify(temp_queryAll)\n",
    "\n",
    "if __name__ == \"__main__\":\n",
    "    app.run(debug=True)"
   ]
  }
 ],
 "metadata": {
  "kernelspec": {
   "display_name": "Python 3",
   "language": "python",
   "name": "python3"
  },
  "language_info": {
   "codemirror_mode": {
    "name": "ipython",
    "version": 3
   },
   "file_extension": ".py",
   "mimetype": "text/x-python",
   "name": "python",
   "nbconvert_exporter": "python",
   "pygments_lexer": "ipython3",
   "version": "3.6.3"
  }
 },
 "nbformat": 4,
 "nbformat_minor": 2
}
