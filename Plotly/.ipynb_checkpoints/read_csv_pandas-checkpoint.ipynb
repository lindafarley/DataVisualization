{
 "cells": [
  {
   "cell_type": "code",
   "execution_count": 1,
   "metadata": {
    "collapsed": true
   },
   "outputs": [],
   "source": [
    "import pandas as pd"
   ]
  },
  {
   "cell_type": "code",
   "execution_count": 8,
   "metadata": {
    "collapsed": true
   },
   "outputs": [],
   "source": [
    "Metadata = \"./DataSets/Belly_Button_Biodiversity_Metadata.csv\"\n",
    "otu_id = \"./DataSets/belly_button_biodiversity_samples.csv\"\n",
    "samples = \"./DataSets/belly_button_biodiversity_samples.csv\"\n",
    "metadata_columns = \"./DataSets/metadata_columns.csv\"\n",
    "\n",
    "Metadata_df = pd.read_csv(Metadata)\n",
    "otu_id_df = pd.read_csv(otu_id)\n",
    "samples_df = pd.read_csv(samples)\n",
    "metadata_columns_df = pd.read_csv(metadata_columns)"
   ]
  }
 ],
 "metadata": {
  "kernelspec": {
   "display_name": "Python 3",
   "language": "python",
   "name": "python3"
  },
  "language_info": {
   "codemirror_mode": {
    "name": "ipython",
    "version": 3
   },
   "file_extension": ".py",
   "mimetype": "text/x-python",
   "name": "python",
   "nbconvert_exporter": "python",
   "pygments_lexer": "ipython3",
   "version": "3.6.2"
  }
 },
 "nbformat": 4,
 "nbformat_minor": 2
}
